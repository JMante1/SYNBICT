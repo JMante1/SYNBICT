{
 "cells": [
  {
   "cell_type": "code",
   "execution_count": 1,
   "metadata": {},
   "outputs": [
    {
     "name": "stderr",
     "output_type": "stream",
     "text": [
      "WARNING:synbict:https://synbiohub.programmingbiology.org/public/Cello_Parts/YFP_reporter/1 not loaded since its DNA sequence was not found\n"
     ]
    },
    {
     "data": {
      "text/plain": [
       "'Valid.'"
      ]
     },
     "execution_count": 1,
     "metadata": {},
     "output_type": "execute_result"
    }
   ],
   "source": [
    "# Example of using annotate_raw_sequences function to annotate\n",
    "# a sequence string not loaded from a file\n",
    "\n",
    "import sbol2\n",
    "from sequences_to_features import FeatureLibrary\n",
    "from sequences_to_features import FeatureAnnotater\n",
    "\n",
    "sbol2.setHomespace('http://mynamespace.org')\n",
    "sbol2.Config.setOption('validate', True)\n",
    "sbol2.Config.setOption('sbol_typed_uris', False)\n",
    "\n",
    "feature_doc = sbol2.Document()\n",
    "feature_doc.read('../test/cello_library.xml')\n",
    "\n",
    "feature_library = FeatureLibrary([feature_doc])\n",
    "\n",
    "min_feature_length = 40\n",
    "\n",
    "annotater = FeatureAnnotater(feature_library, min_feature_length)    \n",
    "\n",
    "target_seq = (\n",
    "    'CTGAAGCGCTCAACGGGTGTGCTTCCCGTTCTGATGAGTCCGTGAGGACGAAAGCGCCTCTA'\n",
    "    'CAAATAATTTTGTTTAAGAGTCTATGGACTATGTTTTCACAAAGGAAGTACCAGGATGGCAC'\n",
    "    'GTAAAACCGCAGCAGAAGCAGAAGAAACCCGTCAGCGTATTATTGATGCAGCACTGGAAGTT'\n",
    "    'TTTGTTGCACAGGGTGTTAGTGATGCAACCCTGGATCAGATTGCACGTAAAGCCGGTGTTAC'\n",
    "    'CCGTGGTGCAGTTTATTGGCATTTTAATGGTAAACTGGAAGTTCTGCAGGCAGTTCTGGCAA'\n",
    "    'GCCGTCAGCATCCGCTGGAACTGGATTTTACACCGGATCTGGGTATTGAACGTAGCTGGGAA'\n",
    "    'GCAGTTGTTGTTGCAATGCTGGATGCAGTTCATAGTCCGCAGAGCAAACAGTTTAGCGAAAT'\n",
    "    'TCTGATTTATCAGGGTCTGGATGAAAGCGGTCTGATTCATAATCGTATGGTTCAGGCAAGCG'\n",
    "    'ATCGTTTTCTGCAGTATATTCATCAGGTTCTGCGTCATGCAGTTACCCAGGGTGAACTGCCG'\n",
    "    'ATTAATCTGGATCTGCAGACCAGCATTGGTGTTTTTAAAGGTCTGATTACCGGTCTGCTGTA'\n",
    "    'TGAAGGTCTGCGTAGCAAAGATCAGCAGGCACAGATTATCAAAGTTGCACTGGGTAGCTTTT'\n",
    "    'GGGCACTGCTGCGTGAACCGCCTCGTTTTCTGCTGTGTGAAGAAGCACAGATTAAACAGGTG'\n",
    "    'AAATCCTTCGAATAATTCAGCCAAAAAACTTAAGACCGCCGGTCTTGTCCACTACCTTGCAG'\n",
    "    'TAATGCGGTGGACAGGATCGGCGGTTTTCTTTTCTCTTCTCAATCTATGATTGGTCCAGATT'\n",
    "    'CGTTACCAATTGACAGCTAGCTCAGTCCTAGGTATATACATACATGCTTGTTTGTTTGTAAAC'\n",
    ")\n",
    "\n",
    "min_target_length = 0\n",
    "\n",
    "target_doc = annotater.annotate_raw_sequences(target_seq, 'SrpR_RBS_S3_gate', min_target_length)\n",
    "\n",
    "target_doc.write('SrpR_RBS_S3_gate.xml')"
   ]
  },
  {
   "cell_type": "code",
   "execution_count": null,
   "metadata": {},
   "outputs": [],
   "source": []
  }
 ],
 "metadata": {
  "kernelspec": {
   "display_name": "Python 3",
   "language": "python",
   "name": "python3"
  },
  "language_info": {
   "codemirror_mode": {
    "name": "ipython",
    "version": 3
   },
   "file_extension": ".py",
   "mimetype": "text/x-python",
   "name": "python",
   "nbconvert_exporter": "python",
   "pygments_lexer": "ipython3",
   "version": "3.7.1"
  }
 },
 "nbformat": 4,
 "nbformat_minor": 2
}
